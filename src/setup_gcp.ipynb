{
 "cells": [
  {
   "cell_type": "markdown",
   "id": "c81dc4a9-87d4-43e3-be90-e44653fc9dfb",
   "metadata": {},
   "source": [
    "# Pasos a seguir para utilizar BigQuery"
   ]
  },
  {
   "cell_type": "markdown",
   "id": "0b51c5f4-f5ab-4a57-9d97-b764251a0451",
   "metadata": {},
   "source": [
    "### 1. Crear un proyecto dentro de Google Cloud Platform"
   ]
  },
  {
   "cell_type": "markdown",
   "id": "7b7fde55-526d-4b4a-a7fa-858fd4c4243d",
   "metadata": {},
   "source": [
    "### 2. Crear una cuenta de servicio dentro del proyecto"
   ]
  },
  {
   "cell_type": "markdown",
   "id": "f3d67fa1-ea48-4470-83c1-6e7d5803e120",
   "metadata": {},
   "source": [
    "- Otorgar permisos de administrador de BigQuery\n",
    "- Otorgar permisos de administrador de objetos Storage\n",
    "- Generar key para acceso y descargar (formato JSON)"
   ]
  },
  {
   "cell_type": "markdown",
   "id": "516feb45-3765-4374-b927-30066268a82c",
   "metadata": {},
   "source": [
    "### 3. Crear un Bucket dentro de Cloud Storage"
   ]
  },
  {
   "cell_type": "markdown",
   "id": "b9bfddb1-394e-4594-8d56-5098813c7c7e",
   "metadata": {},
   "source": [
    "### 4. Subir el JSON de tweets al bucket"
   ]
  },
  {
   "cell_type": "markdown",
   "id": "17afb10a-4fb4-4d73-8d04-ec5aa85a911c",
   "metadata": {},
   "source": [
    "- Para esto se puede usar la función *upload_file_to_cloud_storage* declarada en *gcp.py*"
   ]
  },
  {
   "cell_type": "markdown",
   "id": "1100942f-e53f-4bdc-a0f4-99736332fc69",
   "metadata": {},
   "source": [
    "### 5. Crear un dataset en BigQuery"
   ]
  },
  {
   "cell_type": "markdown",
   "id": "b5fe95eb-a25c-4a41-8456-cb9cde0b54ef",
   "metadata": {},
   "source": [
    "### 6. Crear una tabla dentro del dataset"
   ]
  },
  {
   "cell_type": "markdown",
   "id": "99a103b7-c82f-41d1-bafe-a26a49564857",
   "metadata": {},
   "source": [
    "- En base al archivo subido a Cloud Storage con los tweets"
   ]
  },
  {
   "cell_type": "markdown",
   "id": "9636d37d-64d1-4789-9019-f745e9c8b982",
   "metadata": {},
   "source": [
    "### 7. Crear variables de entorno"
   ]
  },
  {
   "cell_type": "markdown",
   "id": "8e7b7bde-65f6-4896-b843-dc230ad7898e",
   "metadata": {},
   "source": [
    "- Idealmente el proyecto está dentro de un ambiente virtual.\n",
    "- Se requiere crear las variables de entorno:\n",
    "    - **PROJECT_ID**: Ruta del archivo JSON para autenticar la cuenta de servicio.\n",
    "     - **KEYFILE_PATH**: La ID del proyecto en Google Cloud Platform\n",
    "     - **DATASET_ID**: La ID del dataset en BigQuery\n",
    "     - **TABLE_NAME**: El nombre de la tabla dentro del dataset en BigQuery con los datos de los tweets"
   ]
  }
 ],
 "metadata": {
  "kernelspec": {
   "display_name": "Python 3 (ipykernel)",
   "language": "python",
   "name": "python3"
  },
  "language_info": {
   "codemirror_mode": {
    "name": "ipython",
    "version": 3
   },
   "file_extension": ".py",
   "mimetype": "text/x-python",
   "name": "python",
   "nbconvert_exporter": "python",
   "pygments_lexer": "ipython3",
   "version": "3.9.17"
  }
 },
 "nbformat": 4,
 "nbformat_minor": 5
}
